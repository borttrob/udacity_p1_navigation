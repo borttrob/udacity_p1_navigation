{
 "cells": [
  {
   "cell_type": "markdown",
   "metadata": {},
   "source": [
    "# Navigation\n",
    "\n",
    "---\n",
    "\n",
    "In this notebook, you will learn how to use the Unity ML-Agents environment for the first project of the [Deep Reinforcement Learning Nanodegree](https://www.udacity.com/course/deep-reinforcement-learning-nanodegree--nd893).\n",
    "\n",
    "### 1. Start the Environment\n",
    "\n",
    "We begin by importing some necessary packages.  If the code cell below returns an error, please revisit the project instructions to double-check that you have installed [Unity ML-Agents](https://github.com/Unity-Technologies/ml-agents/blob/master/docs/Installation.md) and [NumPy](http://www.numpy.org/)."
   ]
  },
  {
   "cell_type": "code",
   "execution_count": 4,
   "metadata": {},
   "outputs": [],
   "source": [
    "from unityagents import UnityEnvironment\n",
    "import numpy as np"
   ]
  },
  {
   "cell_type": "markdown",
   "metadata": {},
   "source": [
    "Next, we will start the environment!  **_Before running the code cell below_**, change the `file_name` parameter to match the location of the Unity environment that you downloaded.\n",
    "\n",
    "- **Mac**: `\"path/to/Banana.app\"`\n",
    "- **Windows** (x86): `\"path/to/Banana_Windows_x86/Banana.exe\"`\n",
    "- **Windows** (x86_64): `\"path/to/Banana_Windows_x86_64/Banana.exe\"`\n",
    "- **Linux** (x86): `\"path/to/Banana_Linux/Banana.x86\"`\n",
    "- **Linux** (x86_64): `\"path/to/Banana_Linux/Banana.x86_64\"`\n",
    "- **Linux** (x86, headless): `\"path/to/Banana_Linux_NoVis/Banana.x86\"`\n",
    "- **Linux** (x86_64, headless): `\"path/to/Banana_Linux_NoVis/Banana.x86_64\"`\n",
    "\n",
    "For instance, if you are using a Mac, then you downloaded `Banana.app`.  If this file is in the same folder as the notebook, then the line below should appear as follows:\n",
    "```\n",
    "env = UnityEnvironment(file_name=\"Banana.app\")\n",
    "```"
   ]
  },
  {
   "cell_type": "code",
   "execution_count": 5,
   "metadata": {},
   "outputs": [
    {
     "name": "stderr",
     "output_type": "stream",
     "text": [
      "INFO:unityagents:\n",
      "'Academy' started successfully!\n",
      "Unity Academy name: Academy\n",
      "        Number of Brains: 1\n",
      "        Number of External Brains : 1\n",
      "        Lesson number : 0\n",
      "        Reset Parameters :\n",
      "\t\t\n",
      "Unity brain name: BananaBrain\n",
      "        Number of Visual Observations (per agent): 0\n",
      "        Vector Observation space type: continuous\n",
      "        Vector Observation space size (per agent): 37\n",
      "        Number of stacked Vector Observation: 1\n",
      "        Vector Action space type: discrete\n",
      "        Vector Action space size (per agent): 4\n",
      "        Vector Action descriptions: , , , \n"
     ]
    }
   ],
   "source": [
    "env = UnityEnvironment(file_name=\"Banana.app\")"
   ]
  },
  {
   "cell_type": "markdown",
   "metadata": {},
   "source": [
    "Environments contain **_brains_** which are responsible for deciding the actions of their associated agents. Here we check for the first brain available, and set it as the default brain we will be controlling from Python."
   ]
  },
  {
   "cell_type": "code",
   "execution_count": 6,
   "metadata": {},
   "outputs": [],
   "source": [
    "# get the default brain\n",
    "brain_name = env.brain_names[0]\n",
    "brain = env.brains[brain_name]"
   ]
  },
  {
   "cell_type": "markdown",
   "metadata": {},
   "source": [
    "### 2. Examine the State and Action Spaces\n",
    "\n",
    "The simulation contains a single agent that navigates a large environment.  At each time step, it has four actions at its disposal:\n",
    "- `0` - walk forward \n",
    "- `1` - walk backward\n",
    "- `2` - turn left\n",
    "- `3` - turn right\n",
    "\n",
    "The state space has `37` dimensions and contains the agent's velocity, along with ray-based perception of objects around agent's forward direction.  A reward of `+1` is provided for collecting a yellow banana, and a reward of `-1` is provided for collecting a blue banana. \n",
    "\n",
    "Run the code cell below to print some information about the environment."
   ]
  },
  {
   "cell_type": "code",
   "execution_count": 7,
   "metadata": {},
   "outputs": [
    {
     "name": "stdout",
     "output_type": "stream",
     "text": [
      "Number of agents: 1\n",
      "Number of actions: 4\n",
      "States look like: [1.         0.         0.         0.         0.84408134 0.\n",
      " 0.         1.         0.         0.0748472  0.         1.\n",
      " 0.         0.         0.25755    1.         0.         0.\n",
      " 0.         0.74177343 0.         1.         0.         0.\n",
      " 0.25854847 0.         0.         1.         0.         0.09355672\n",
      " 0.         1.         0.         0.         0.31969345 0.\n",
      " 0.        ]\n",
      "States have length: 37\n"
     ]
    }
   ],
   "source": [
    "# reset the environment\n",
    "env_info = env.reset(train_mode=True)[brain_name]\n",
    "\n",
    "# number of agents in the environment\n",
    "print('Number of agents:', len(env_info.agents))\n",
    "\n",
    "# number of actions\n",
    "action_size = brain.vector_action_space_size\n",
    "print('Number of actions:', action_size)\n",
    "\n",
    "# examine the state space \n",
    "state = env_info.vector_observations[0]\n",
    "print('States look like:', state)\n",
    "state_size = len(state)\n",
    "print('States have length:', state_size)"
   ]
  },
  {
   "cell_type": "markdown",
   "metadata": {},
   "source": [
    "### 3. Take Random Actions in the Environment\n",
    "\n",
    "In the next code cell, you will learn how to use the Python API to control the agent and receive feedback from the environment.\n",
    "\n",
    "Once this cell is executed, you will watch the agent's performance, if it selects an action (uniformly) at random with each time step.  A window should pop up that allows you to observe the agent, as it moves through the environment.  \n",
    "\n",
    "Of course, as part of the project, you'll have to change the code so that the agent is able to use its experience to gradually choose better actions when interacting with the environment!"
   ]
  },
  {
   "cell_type": "code",
   "execution_count": 8,
   "metadata": {},
   "outputs": [],
   "source": [
    "#env_info = env.reset(train_mode=False)[brain_name] # reset the environment\n",
    "#state = env_info.vector_observations[0]            # get the current state\n",
    "#score = 0                                          # initialize the score\n",
    "#while True:\n",
    "#    action = np.random.randint(action_size)        # select an action\n",
    "#    env_info = env.step(action)[brain_name]        # send the action to the environment\n",
    "#    next_state = env_info.vector_observations[0]   # get the next state\n",
    "#    reward = env_info.rewards[0]                   # get the reward\n",
    "#    done = env_info.local_done[0]                  # see if episode has finished\n",
    "#    score += reward                                # update the score\n",
    "#    state = next_state                             # roll over the state to next time step\n",
    "#    if done:                                       # exit loop if episode finished\n",
    "#        break\n",
    "#    \n",
    "#print(\"Score: {}\".format(score))"
   ]
  },
  {
   "cell_type": "markdown",
   "metadata": {},
   "source": [
    "When finished, you can close the environment."
   ]
  },
  {
   "cell_type": "code",
   "execution_count": 9,
   "metadata": {},
   "outputs": [],
   "source": [
    "#env.close()"
   ]
  },
  {
   "cell_type": "markdown",
   "metadata": {},
   "source": [
    "### 4. It's Your Turn!\n",
    "\n",
    "Now it's your turn to train your own agent to solve the environment!  When training the environment, set `train_mode=True`, so that the line for resetting the environment looks like the following:\n",
    "```python\n",
    "env_info = env.reset(train_mode=True)[brain_name]\n",
    "```"
   ]
  },
  {
   "cell_type": "code",
   "execution_count": 15,
   "metadata": {},
   "outputs": [],
   "source": [
    "import torch\n",
    "from torchsummary import summary\n",
    "from collections import deque\n",
    "import random\n",
    "import time\n",
    "import matplotlib.pyplot as plt\n",
    "%matplotlib inline"
   ]
  },
  {
   "cell_type": "code",
   "execution_count": 18,
   "metadata": {},
   "outputs": [
    {
     "name": "stdout",
     "output_type": "stream",
     "text": [
      "----------------------------------------------------------------\n",
      "        Layer (type)               Output Shape         Param #\n",
      "================================================================\n",
      "            Linear-1                   [-1, 64]           2,432\n",
      "            Linear-2                   [-1, 64]           4,160\n",
      "            Linear-3                    [-1, 4]             260\n",
      "================================================================\n",
      "Total params: 6,852\n",
      "Trainable params: 6,852\n",
      "Non-trainable params: 0\n",
      "----------------------------------------------------------------\n",
      "Input size (MB): 0.00\n",
      "Forward/backward pass size (MB): 0.00\n",
      "Params size (MB): 0.03\n",
      "Estimated Total Size (MB): 0.03\n",
      "----------------------------------------------------------------\n"
     ]
    }
   ],
   "source": [
    "\"\"\"DNN Model to hold Q-values for DQN algorithm\n",
    "\"\"\"\n",
    "class QNetwork(torch.nn.Module):\n",
    "    def __init__(self):\n",
    "        super(QNetwork, self).__init__()\n",
    "        self.fc1 = torch.nn.Linear(state_size, 64)\n",
    "        self.fc2 = torch.nn.Linear(64, 64)\n",
    "        self.fc3 = torch.nn.Linear(64, 4)\n",
    "        \n",
    "    def forward(self, x):\n",
    "        x = self.fc1(x).clamp(min=0)\n",
    "        x = self.fc2(x).clamp(min=0)\n",
    "        x = self.fc3(x)\n",
    "        return x\n",
    "    \n",
    "model = QNetwork()\n",
    "summary(model, (37,))"
   ]
  },
  {
   "cell_type": "code",
   "execution_count": 9,
   "metadata": {},
   "outputs": [],
   "source": [
    "\"\"\"\n",
    "Implements logic for DQN experience store\n",
    "\"\"\"\n",
    "class ExperienceStore:\n",
    "    def __init__(self, size):\n",
    "        self._store = deque(maxlen=size)\n",
    "        \n",
    "    def sample(self, batch_size):\n",
    "        \"\"\"Returns a sample of size 'batch_size' from experience store\n",
    "        \"\"\"\n",
    "        experiences = random.sample(self._store, batch_size)\n",
    "        states = [e[0] for e in experiences]\n",
    "        actions = [e[1] for e in experiences]\n",
    "        rewards = [e[2] for e in experiences]\n",
    "        next_states = [e[3] for e in experiences]\n",
    "        dones = [(1 if e[4] else 0) for e in experiences]\n",
    "        \n",
    "        batch = (states, actions, rewards, next_states, dones)\n",
    "        \n",
    "        return [torch.from_numpy(np.vstack(b)).float() for b in batch]\n",
    "    \n",
    "    def add(self, experience):\n",
    "        \"\"\"Adds an experience to the experince store\n",
    "        Params\n",
    "        -------\n",
    "        experience : tuple (state, action, reward, next_state, done)\n",
    "        \"\"\"\n",
    "        self._store.append(experience)\n",
    "    \n",
    "    def __len__(self):\n",
    "        return len(self._store)"
   ]
  },
  {
   "cell_type": "code",
   "execution_count": 10,
   "metadata": {},
   "outputs": [],
   "source": [
    "EPSILON_DECAY_FACTOR = 0.995\n",
    "GAMMA = 0.99\n",
    "BATCH_SIZE = 128\n",
    "LEARNING_RATE = 0.0005\n",
    "EXPERIENCE_STORE_SIZE = 1000000\n",
    "LEARN_EVERY_STEPS = 4\n",
    "TAU = 0.001\n",
    "\n",
    "\"\"\"\n",
    "DQN Agent and DQN training logic.\n",
    "\"\"\"\n",
    "class Agent:\n",
    "    def __init__(self, use_soft_update=True, trains_per_cycle=1, use_double_dqn=True):\n",
    "        \"\"\"Agent constructor\n",
    "        Params\n",
    "        -------\n",
    "        use_soft_update : True if soft update of the target network should be used. \n",
    "        trains_per_cycle : count of optimizer steps to perform if train() is triggered\n",
    "        use_double_dqn : True if DDQN algorithm for training should be usd\n",
    "        \"\"\"\n",
    "        self.qnetwork_target = QNetwork()\n",
    "        self.qnetwork_local = QNetwork()\n",
    "        self.optimizer = torch.optim.Adam(self.qnetwork_local.parameters(), lr=LEARNING_RATE)\n",
    "        self.experience_store = ExperienceStore(EXPERIENCE_STORE_SIZE)\n",
    "        self.step_count = 0\n",
    "        self.use_soft_udate = use_soft_update\n",
    "        self.use_double_dqn = use_double_dqn\n",
    "        self.trains_per_cycle = trains_per_cycle\n",
    "        \n",
    "    def calc_action(self, state, epsilon):\n",
    "        \"\"\"Calculates next action by e-greedy\n",
    "        Params\n",
    "        -------\n",
    "        state : environment state\n",
    "        epsilon : epsilon for epsilon gredy\n",
    "        \n",
    "        returns action\n",
    "        \"\"\"\n",
    "        state = torch.from_numpy(np.expand_dims(state, axis=0)).float()\n",
    "        self.qnetwork_local.eval()\n",
    "        with torch.no_grad():\n",
    "            action_values = self.qnetwork_local(state)\n",
    "        return np.argmax(action_values.data.numpy()) if random.random() > epsilon else np.random.randint(action_size)\n",
    "    \n",
    "    def save_experience(self, experience):\n",
    "        \"\"\"Saves experiences in experience store\n",
    "        Params\n",
    "        -------\n",
    "        experience : tuple (state, action, reward, next_state, done)\n",
    "        \"\"\"\n",
    "        self.experience_store.add(experience)\n",
    "    \n",
    "    def train(self):\n",
    "        \"\"\"Trigger to start a single training cycle\n",
    "        \"\"\"\n",
    "        self.step_count += 1\n",
    "        self.qnetwork_local.train()\n",
    "        if len(self.experience_store) > BATCH_SIZE and self.step_count % LEARN_EVERY_STEPS == 0:\n",
    "            \n",
    "            for i in range(self.trains_per_cycle):\n",
    "                states, actions, rewards, next_states, dones = self.experience_store.sample(BATCH_SIZE)\n",
    "                with torch.no_grad():\n",
    "                    if self.use_double_dqn:\n",
    "                        argmax_actions = self.qnetwork_local(next_states).max(1)[1].unsqueeze(1).long()\n",
    "                        target = rewards + GAMMA * self.qnetwork_target(next_states).gather(1, argmax_actions)\n",
    "                    else:\n",
    "                        target = rewards + GAMMA * self.qnetwork_target(next_states).max(1)[0].unsqueeze(1) * (1 - dones)\n",
    "\n",
    "                action_values = self.qnetwork_local(states).gather(1, actions.long())\n",
    "                loss = torch.nn.functional.mse_loss(action_values, target)\n",
    "                self.optimizer.zero_grad()\n",
    "                loss.backward()\n",
    "                self.optimizer.step()\n",
    "        \n",
    "        if self.use_soft_udate:\n",
    "            self.soft_update(self.qnetwork_local, self.qnetwork_target)  \n",
    "        else: \n",
    "            self.qnetwork_target.load_state_dict(self.qnetwork_local.state_dict())            \n",
    "\n",
    "    def soft_update(self, local_model, target_model):\n",
    "        \"\"\"Soft update model parameters.\n",
    "        θ_target = τ*θ_local + (1 - τ)*θ_target\n",
    "        Params\n",
    "        ======\n",
    "            local_model (PyTorch model): weights will be copied from\n",
    "            target_model (PyTorch model): weights will be copied to\n",
    "            tau (float): interpolation parameter \n",
    "        \"\"\"\n",
    "        for target_param, local_param in zip(target_model.parameters(), local_model.parameters()):\n",
    "            target_param.data.copy_(TAU*local_param.data + (1.0-TAU)*target_param.data)\n",
    "    \n",
    "def decay_epsilon(epsilon):\n",
    "    return epsilon * EPSILON_DECAY_FACTOR"
   ]
  },
  {
   "cell_type": "code",
   "execution_count": 11,
   "metadata": {
    "scrolled": true
   },
   "outputs": [],
   "source": [
    "def dqn(agent, n_episodes=1000, epsilon_max=1.0, epsilon_min=0.005):\n",
    "    scores = []\n",
    "    start_time = time.time()\n",
    "    epsilon=epsilon_max\n",
    "    for episode in range(1, n_episodes):\n",
    "        env_info = env.reset(train_mode=True)[brain_name]\n",
    "        state = env_info.vector_observations[0]\n",
    "        score = 0\n",
    "        while True:\n",
    "            action = agent.calc_action(state, epsilon)\n",
    "            env_info = env.step(action)[brain_name]\n",
    "            next_state = env_info.vector_observations[0]\n",
    "            reward = env_info.rewards[0] \n",
    "            score += reward\n",
    "            done = env_info.local_done[0]\n",
    "            agent.save_experience((state, action, reward, next_state, done))\n",
    "            agent.train()\n",
    "            state = next_state \n",
    "\n",
    "            if done:\n",
    "                break\n",
    "\n",
    "        epsilon = max(decay_epsilon(epsilon), epsilon_min)\n",
    "        scores.append(score)\n",
    "        score = 0\n",
    "        print(\"\\rEpisode {}, Rolling average {:.2f}, epsilon {:.3f}, runtime {:.1f}\"\n",
    "              .format(episode, np.mean(scores[-100:]), epsilon, (time.time() - start_time)), end=\"\")\n",
    "        if episode % 100 == 0:\n",
    "            print(\"\\rEpisode {}, Rolling average {:.2f}, epsilon {:.3f}, runtime {:.0f}\"\n",
    "                  .format(episode, np.mean(scores[-100:]), epsilon, (time.time() - start_time)))\n",
    "    return scores"
   ]
  },
  {
   "cell_type": "code",
   "execution_count": 12,
   "metadata": {},
   "outputs": [
    {
     "name": "stdout",
     "output_type": "stream",
     "text": [
      "\n",
      "Agent: dqn\n",
      "Episode 100, Rolling average 0.13, epsilon 0.606, runtime 143.2\n",
      "Episode 200, Rolling average 0.46, epsilon 0.367, runtime 290.2\n",
      "Episode 300, Rolling average 1.29, epsilon 0.222, runtime 439.4\n",
      "Episode 400, Rolling average 1.31, epsilon 0.135, runtime 591.8\n",
      "Episode 500, Rolling average 1.43, epsilon 0.082, runtime 750.3\n",
      "Episode 600, Rolling average 2.26, epsilon 0.049, runtime 918.5\n",
      "Episode 700, Rolling average 2.44, epsilon 0.030, runtime 1097.4\n",
      "Episode 800, Rolling average 3.01, epsilon 0.018, runtime 1339.9\n",
      "Episode 900, Rolling average 4.17, epsilon 0.011, runtime 1557.6\n",
      "Episode 999, Rolling average 4.83, epsilon 0.007, runtime 1808.7\n",
      "Agent: ddqn (no soft-update)\n",
      "Episode 100, Rolling average 0.39, epsilon 0.606, runtime 164.5\n",
      "Episode 200, Rolling average 3.52, epsilon 0.367, runtime 336.8\n",
      "Episode 300, Rolling average 6.04, epsilon 0.222, runtime 506.6\n",
      "Episode 400, Rolling average 7.46, epsilon 0.135, runtime 693.2\n",
      "Episode 500, Rolling average 8.03, epsilon 0.082, runtime 881.1\n",
      "Episode 600, Rolling average 8.93, epsilon 0.049, runtime 1078.0\n",
      "Episode 700, Rolling average 10.05, epsilon 0.030, runtime 1292.4\n",
      "Episode 800, Rolling average 11.42, epsilon 0.018, runtime 1510.0\n",
      "Episode 900, Rolling average 13.36, epsilon 0.011, runtime 1719.4\n",
      "Episode 999, Rolling average 14.68, epsilon 0.007, runtime 1941.1\n",
      "Agent: ddqn (soft-update)\n",
      "Episode 100, Rolling average 0.80, epsilon 0.606, runtime 104.7\n",
      "Episode 200, Rolling average 4.79, epsilon 0.367, runtime 210.7\n",
      "Episode 300, Rolling average 8.33, epsilon 0.222, runtime 323.0\n",
      "Episode 400, Rolling average 10.45, epsilon 0.135, runtime 431.1\n",
      "Episode 500, Rolling average 11.94, epsilon 0.082, runtime 550.8\n",
      "Episode 600, Rolling average 12.79, epsilon 0.049, runtime 676.7\n",
      "Episode 700, Rolling average 13.82, epsilon 0.030, runtime 795.5\n",
      "Episode 800, Rolling average 14.88, epsilon 0.018, runtime 924.1\n",
      "Episode 900, Rolling average 14.94, epsilon 0.011, runtime 1062.2\n",
      "Episode 999, Rolling average 15.70, epsilon 0.007, runtime 1189.3"
     ]
    }
   ],
   "source": [
    "agents = \\\n",
    "{\n",
    "    'dqn': Agent(use_soft_update=False, trains_per_cycle=3, use_double_dqn=False),\n",
    "    'ddqn (no soft-update)': Agent(use_soft_update=False, trains_per_cycle=3, use_double_dqn=True),\n",
    "    'ddqn (soft-update)': Agent(use_soft_update=True, trains_per_cycle=1, use_double_dqn=True)\n",
    "}\n",
    "\n",
    "agent_scores = {}\n",
    "for agent_name, agent in agents.items():\n",
    "    print('\\nAgent: ' + agent_name)\n",
    "    agent_scores[agent_name] = dqn(agent, n_episodes=1000)"
   ]
  },
  {
   "cell_type": "code",
   "execution_count": 13,
   "metadata": {},
   "outputs": [
    {
     "data": {
      "image/png": "[encoded data removed]",
      "text/plain": [
       "<Figure size 720x504 with 4 Axes>"
      ]
     },
     "metadata": {
      "needs_background": "light"
     },
     "output_type": "display_data"
    }
   ],
   "source": [
    "fig, axs = plt.subplots(int(np.ceil(len(agent_scores)/2)), 2, figsize=(10, 7))\n",
    "fig.tight_layout(pad=3.0)\n",
    "\n",
    "count = 0\n",
    "for agent_name, scores in agent_scores.items():\n",
    "    rolling_averages = [np.mean(scores[i - 100: i]) for i in range(100, len(scores))]\n",
    "    ax = axs[int(count / 2), count % 2]\n",
    "    ax.plot(range(len(scores)), scores, label=\"score\")\n",
    "    ax.plot(range(100, len(scores)), rolling_averages, label=\"rol. avg score\")\n",
    "    ax.set_ylim(0, 30)\n",
    "    ax.set_xlabel(\"episode\")\n",
    "    ax.set_ylabel(\"score\")\n",
    "    ax.set_title(agent_name)\n",
    "    ax.legend()\n",
    "    count += 1\n",
    "    \n",
    "plt.show()"
   ]
  },
  {
   "cell_type": "markdown",
   "metadata": {},
   "source": [
    "### Save agent"
   ]
  },
  {
   "cell_type": "code",
   "execution_count": 15,
   "metadata": {},
   "outputs": [],
   "source": [
    "def save_agent(agent, path):\n",
    "    torch.save({\n",
    "        \"qnetwork_local\": agent.qnetwork_local.state_dict(),\n",
    "        \"epsilon\": 0.005\n",
    "    }, path)\n",
    "    \n",
    "def load_agent(path):\n",
    "    agent = Agent()\n",
    "    checkpoint = torch.load(path)\n",
    "    agent.qnetwork_local.load_state_dict(checkpoint[\"qnetwork_local\"])\n",
    "    epsilon = checkpoint[\"epsilon\"]\n",
    "    return agent, epsilon\n",
    "\n",
    "best_agent = agents['ddqn (soft-update)']\n",
    "save_agent(agent, \"model.pt\")\n",
    "checkpoint_agent, epsilon = load_agent(\"model.pt\")\n"
   ]
  },
  {
   "cell_type": "markdown",
   "metadata": {},
   "source": [
    "### Agent example run"
   ]
  },
  {
   "cell_type": "code",
   "execution_count": 17,
   "metadata": {},
   "outputs": [
    {
     "name": "stdout",
     "output_type": "stream",
     "text": [
      "Score: 21.0\n"
     ]
    }
   ],
   "source": [
    "env_info = env.reset(train_mode=False)[brain_name] # reset the environment\n",
    "state = env_info.vector_observations[0]            # get the current state\n",
    "score = 0                                          # initialize the score\n",
    "while True:\n",
    "    action = checkpoint_agent.calc_action(state, epsilon)       # select an action\n",
    "    env_info = env.step(action)[brain_name]        # send the action to the environment\n",
    "    next_state = env_info.vector_observations[0]   # get the next state\n",
    "    reward = env_info.rewards[0]                   # get the reward\n",
    "    done = env_info.local_done[0]                  # see if episode has finished\n",
    "    score += reward                                # update the score\n",
    "    state = next_state                             # roll over the state to next time step\n",
    "    if done:                                       # exit loop if episode finished\n",
    "        break\n",
    "    \n",
    "print(\"Score: {}\".format(score))"
   ]
  },
  {
   "cell_type": "code",
   "execution_count": null,
   "metadata": {},
   "outputs": [],
   "source": []
  }
 ],
 "metadata": {
  "kernelspec": {
   "display_name": "drlnd",
   "language": "python",
   "name": "drlnd"
  },
  "language_info": {
   "codemirror_mode": {
    "name": "ipython",
    "version": 3
   },
   "file_extension": ".py",
   "mimetype": "text/x-python",
   "name": "python",
   "nbconvert_exporter": "python",
   "pygments_lexer": "ipython3",
   "version": "3.6.12"
  }
 },
 "nbformat": 4,
 "nbformat_minor": 2
}
